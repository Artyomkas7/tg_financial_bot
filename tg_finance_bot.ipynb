{
 "cells": [
  {
   "cell_type": "code",
   "execution_count": 2,
   "id": "ddca67bd-2b6f-4f5d-bf61-a0dd555efa46",
   "metadata": {},
   "outputs": [
    {
     "ename": "ModuleNotFoundError",
     "evalue": "No module named 'telegram'",
     "output_type": "error",
     "traceback": [
      "\u001b[1;31m---------------------------------------------------------------------------\u001b[0m",
      "\u001b[1;31mModuleNotFoundError\u001b[0m                       Traceback (most recent call last)",
      "Cell \u001b[1;32mIn[2], line 3\u001b[0m\n\u001b[0;32m      1\u001b[0m \u001b[38;5;28;01mimport\u001b[39;00m \u001b[38;5;21;01mlogging\u001b[39;00m\n\u001b[0;32m      2\u001b[0m \u001b[38;5;28;01mimport\u001b[39;00m \u001b[38;5;21;01mrequests\u001b[39;00m\n\u001b[1;32m----> 3\u001b[0m \u001b[38;5;28;01mfrom\u001b[39;00m \u001b[38;5;21;01mtelegram\u001b[39;00m \u001b[38;5;28;01mimport\u001b[39;00m Update, ReplyKeyboardMarkup, ReplyKeyboardRemove\n\u001b[0;32m      4\u001b[0m \u001b[38;5;28;01mfrom\u001b[39;00m \u001b[38;5;21;01mtelegram\u001b[39;00m\u001b[38;5;21;01m.\u001b[39;00m\u001b[38;5;21;01mext\u001b[39;00m \u001b[38;5;28;01mimport\u001b[39;00m Updater, CommandHandler, MessageHandler, Filters, ConversationHandler, CallbackContext\n\u001b[0;32m      5\u001b[0m \u001b[38;5;66;03m# URL Google Apps Script\u001b[39;00m\n",
      "\u001b[1;31mModuleNotFoundError\u001b[0m: No module named 'telegram'"
     ]
    }
   ],
   "source": [
    "import logging\n",
    "import requests\n",
    "from telegram import Update, ReplyKeyboardMarkup, ReplyKeyboardRemove\n",
    "from telegram.ext import Updater, CommandHandler, MessageHandler, Filters, ConversationHandler, CallbackContext\n",
    "# URL Google Apps Script\n",
    "GAS_URL = \"https://script.google.com/macros/s/AKfycbzp_nqb_UuGN2gV6f_QhWP0O4AFEa9g_MQWneFt4icDd8zf9-i6-AlQbUFi0XMxyWZg/exec\"\n",
    "# Логирование\n",
    "logging.basicConfig(format=\"%(asctime)s - %(name)s - %(levelname)s - %(message)s\", level=logging.INFO)\n",
    "# Этапы диалога\n",
    "SUM, CATEGORY, OPERATION_TYPE = range(3)\n",
    "# Команда /start\n",
    "def start(update: Update, context: CallbackContext):\n",
    "    update.message.reply_text(\"Привет! Введите сумму:\")\n",
    "    return SUM\n",
    "# Ввод суммы\n",
    "def get_sum(update: Update, context: CallbackContext):\n",
    "    context.user_data[\"sum\"] = update.message.text\n",
    "    keyboard = [[\"Еда\", \"Транспорт\"], [\"Развлечения\", \"Другое\"]]\n",
    "    reply_markup = ReplyKeyboardMarkup(keyboard, one_time_keyboard=True, resize_keyboard=True)\n",
    "    update.message.reply_text(\"Выберите категорию:\", reply_markup=reply_markup)\n",
    "    return CATEGORY\n",
    "# Выбор категории\n",
    "def get_category(update: Update, context: CallbackContext):\n",
    "    context.user_data[\"category\"] = update.message.text\n",
    "    keyboard = [[\"Доход\", \"Расход\"]]\n",
    "    reply_markup = ReplyKeyboardMarkup(keyboard, one_time_keyboard=True, resize_keyboard=True)\n",
    "    update.message.reply_text(\"Выберите тип операции:\", reply_markup=reply_markup)\n",
    "    return OPERATION_TYPE\n",
    "# Запись в Google Таблицу\n",
    "def get_operation_type(update: Update, context: CallbackContext):\n",
    "    context.user_data[\"operation_type\"] = update.message.text   \n",
    "    # Отправляем данные в Google Apps Script\n",
    "    data = {\n",
    "        \"sum\": context.user_data[\"sum\"],\n",
    "        \"category\": context.user_data[\"category\"],\n",
    "        \"type\": context.user_data[\"operation_type\"]\n",
    "    }\n",
    "    response = requests.post(GAS_URL, json=data)    \n",
    "    update.message.reply_text(response.text, reply_markup=ReplyKeyboardRemove())\n",
    "    return ConversationHandler.END\n",
    "# Команда /cancel\n",
    "def cancel(update: Update, context: CallbackContext):\n",
    "    update.message.reply_text(\"Операция отменена.\", reply_markup=ReplyKeyboardRemove())\n",
    "    return ConversationHandler.END\n",
    "# Запуск бота\n",
    "def main():\n",
    "    updater = Updater(\"7697444585:AAGcna4h-eGa-89UCTfG9XL4EGI-ujj0QWs\", use_context=True)\n",
    "    dp = updater.dispatcher\n",
    "    conv_handler = ConversationHandler(\n",
    "        entry_points=[CommandHandler(\"start\", start)],\n",
    "        states={\n",
    "            SUM: [MessageHandler(Filters.text & ~Filters.command, get_sum)],\n",
    "            CATEGORY: [MessageHandler(Filters.text & ~Filters.command, get_category)],\n",
    "            OPERATION_TYPE: [MessageHandler(Filters.text & ~Filters.command, get_operation_type)],\n",
    "        },\n",
    "        fallbacks=[CommandHandler(\"cancel\", cancel)],\n",
    "    )\n",
    "    dp.add_handler(conv_handler)\n",
    "    updater.start_polling()\n",
    "    updater.idle()\n",
    "if name == \"__main__\":\n",
    "    main()"
   ]
  },
  {
   "cell_type": "code",
   "execution_count": null,
   "id": "8c1180c4-6503-48c1-806a-bd6077645bfd",
   "metadata": {},
   "outputs": [],
   "source": []
  }
 ],
 "metadata": {
  "kernelspec": {
   "display_name": "Python 3 (ipykernel)",
   "language": "python",
   "name": "python3"
  },
  "language_info": {
   "codemirror_mode": {
    "name": "ipython",
    "version": 3
   },
   "file_extension": ".py",
   "mimetype": "text/x-python",
   "name": "python",
   "nbconvert_exporter": "python",
   "pygments_lexer": "ipython3",
   "version": "3.12.5"
  }
 },
 "nbformat": 4,
 "nbformat_minor": 5
}
